#declare variable:

x =  float(input('enter 1st number'))
y =  float(input('enter 2nd number'))

#Add functions for specific operator:

def addition(x,y):
  return(x+y)
def substraction(x,y):
  return(x-y)
def multiplication(x,y):
  return(x*y)
def divide(x,y):
  return(x/y)
  
#Create variable to select operator:

ch = input("Enter operator: + , - , * , /  :")

#Conditions for operations using if-else statement

if ch == "+":
   c = (addition(x,y))
   print(c)
   
elif ch == "-":
   c = (substraction(x,y))
   print(c)

elif ch == "*":
   c = (multiplication(x,y))
   print(c)

elif ch == "/":
   c = (divide(x,y))
   print(c)
